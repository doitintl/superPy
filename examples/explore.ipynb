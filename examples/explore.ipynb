{
 "cells": [
  {
   "cell_type": "code",
   "execution_count": 0,
   "metadata": {
    "colab": {},
    "colab_type": "code",
    "id": "EDqXxdFdz-KU"
   },
   "outputs": [],
   "source": [
    "%%capture\n",
    "!pip install superQuery\n",
    "!pip install pivottablejs"
   ]
  },
  {
   "cell_type": "code",
   "execution_count": 0,
   "metadata": {
    "colab": {},
    "colab_type": "code",
    "id": "ix0zdcQ6zf9z",
    "inputHidden": false,
    "outputHidden": false
   },
   "outputs": [],
   "source": [
    "import superQuery\n",
    "%load_ext superQuery\n",
    "\n",
    "from pivottablejs import pivot_ui\n",
    "from IPython.core.display import display, HTML"
   ]
  },
  {
   "cell_type": "code",
   "execution_count": 0,
   "metadata": {
    "colab": {},
    "colab_type": "code",
    "id": "4HUxRD8Dzf94",
    "inputHidden": false,
    "outputHidden": false
   },
   "outputs": [],
   "source": [
    "%%capture\n",
    "%env SUPERQUERY_USERNAME=xxxxxxxxxx\n",
    "%env SUPERQUERY_PASSWORD=xxxxxxxxxx"
   ]
  },
  {
   "cell_type": "code",
   "execution_count": 0,
   "metadata": {
    "colab": {},
    "colab_type": "code",
    "id": "8fx5_b4jzf98",
    "inputHidden": false,
    "outputHidden": false
   },
   "outputs": [],
   "source": [
    "%%superquery df\n",
    "SELECT name FROM `bigquery-public-data.usa_names.usa_1910_current`"
   ]
  },
  {
   "cell_type": "code",
   "execution_count": 0,
   "metadata": {
    "colab": {},
    "colab_type": "code",
    "id": "RVFqYIhFzf-M",
    "inputHidden": false,
    "outputHidden": false
   },
   "outputs": [],
   "source": [
    "pivot_ui(df,outfile_path='pivot.html')\n",
    "HTML('pivot.html')"
   ]
  }
 ],
 "metadata": {
  "colab": {
   "name": "explore.ipynb",
   "provenance": []
  },
  "kernel_info": {
   "name": "python3"
  },
  "kernelspec": {
   "display_name": "Python 3",
   "language": "python",
   "name": "python3"
  },
  "language_info": {
   "codemirror_mode": {
    "name": "ipython",
    "version": 3
   },
   "file_extension": ".py",
   "mimetype": "text/x-python",
   "name": "python",
   "nbconvert_exporter": "python",
   "pygments_lexer": "ipython3",
   "version": "3.7.3"
  },
  "nteract": {
   "version": "0.15.0"
  }
 },
 "nbformat": 4,
 "nbformat_minor": 1
}
