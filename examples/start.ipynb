{
  "nbformat": 4,
  "nbformat_minor": 0,
  "metadata": {
    "kernelspec": {
      "name": "python3",
      "language": "python",
      "display_name": "Python 3"
    },
    "language_info": {
      "name": "python",
      "version": "3.6.8",
      "mimetype": "text/x-python",
      "codemirror_mode": {
        "name": "ipython",
        "version": 3
      },
      "pygments_lexer": "ipython3",
      "nbconvert_exporter": "python",
      "file_extension": ".py"
    },
    "kernel_info": {
      "name": "python3"
    },
    "nteract": {
      "version": "0.15.0"
    },
    "colab": {
      "name": "start.ipynb",
      "provenance": []
    }
  },
  "cells": [
    {
      "cell_type": "markdown",
      "metadata": {
        "id": "bHOhBp83Eovc",
        "colab_type": "text"
      },
      "source": [
        "## Install the superQuery library"
      ]
    },
    {
      "cell_type": "code",
      "metadata": {
        "id": "N6Ez_40uEovf",
        "colab_type": "code",
        "colab": {}
      },
      "source": [
        "!pip3 install superQuery"
      ],
      "execution_count": 0,
      "outputs": []
    },
    {
      "cell_type": "markdown",
      "metadata": {
        "id": "2IDAR2DgEovi",
        "colab_type": "text"
      },
      "source": [
        "## Get your authentication details"
      ]
    },
    {
      "cell_type": "markdown",
      "metadata": {
        "id": "4bpd3BEvEovj",
        "colab_type": "text"
      },
      "source": [
        "* Go to [superquery.io](https://superquery.io) and log in/sign up\n",
        "* In the left side-bar, click on the \"Integrations\" icon\n",
        "* Scroll down until you see \"Python\" and click \"Connect\"\n",
        "* Note the username and password\n",
        "* Insert your username and password into the 'xxxxxx' fields below"
      ]
    },
    {
      "cell_type": "markdown",
      "metadata": {
        "id": "nwTduUMPEovk",
        "colab_type": "text"
      },
      "source": [
        "## Set the environment variables"
      ]
    },
    {
      "cell_type": "code",
      "metadata": {
        "id": "gsNAsB8EEovl",
        "colab_type": "code",
        "colab": {}
      },
      "source": [
        "%env SUPERQUERY_USERNAME=xxxxxxxxx\n",
        "%env SUPERQUERY_PASSWORD=xxxxxxxxx"
      ],
      "execution_count": 0,
      "outputs": []
    },
    {
      "cell_type": "markdown",
      "metadata": {
        "id": "pwNY6a7REovn",
        "colab_type": "text"
      },
      "source": [
        "## Import libraries"
      ]
    },
    {
      "cell_type": "code",
      "metadata": {
        "id": "WgVsfkRqEovn",
        "colab_type": "code",
        "colab": {
          "base_uri": "https://localhost:8080/",
          "height": 17
        },
        "outputId": "601ef107-d63c-4564-a740-0f9a2bcdc8a5"
      },
      "source": [
        "import superQuery\n",
        "%load_ext superQuery"
      ],
      "execution_count": 4,
      "outputs": [
        {
          "output_type": "display_data",
          "data": {
            "application/javascript": [
              "IPython.CodeCell.options_default.highlight_modes['magic_sql'] = {'reg':[/^%%superquery/]};"
            ]
          },
          "metadata": {
            "tags": []
          }
        }
      ]
    },
    {
      "cell_type": "markdown",
      "metadata": {
        "id": "aGMnYyfQFMjc",
        "colab_type": "text"
      },
      "source": [
        "# Option 1: Cell magics"
      ]
    },
    {
      "cell_type": "code",
      "metadata": {
        "id": "AvRWRswJFQ0V",
        "colab_type": "code",
        "colab": {}
      },
      "source": [
        "%%superquery --project yourBillingProjectId df_names\n",
        "SELECT name FROM `bigquery-public-data.usa_names.usa_1910_current` LIMIT 10"
      ],
      "execution_count": 0,
      "outputs": []
    },
    {
      "cell_type": "code",
      "metadata": {
        "id": "YEUwUAPNGT3J",
        "colab_type": "code",
        "colab": {}
      },
      "source": [
        "df_names"
      ],
      "execution_count": 0,
      "outputs": []
    },
    {
      "cell_type": "markdown",
      "metadata": {
        "id": "7uWYh2LuFg8y",
        "colab_type": "text"
      },
      "source": [
        "# Option 2: Library API"
      ]
    },
    {
      "cell_type": "markdown",
      "metadata": {
        "id": "UTuFpkaPEovq",
        "colab_type": "text"
      },
      "source": [
        "# Get a superQuery client"
      ]
    },
    {
      "cell_type": "code",
      "metadata": {
        "id": "8dHwpS55Eovq",
        "colab_type": "code",
        "colab": {}
      },
      "source": [
        "client = superQuery.Client()"
      ],
      "execution_count": 0,
      "outputs": []
    },
    {
      "cell_type": "markdown",
      "metadata": {
        "id": "sBvkq_lUEovt",
        "colab_type": "text"
      },
      "source": [
        "# Set your Google Cloud billing project"
      ]
    },
    {
      "cell_type": "code",
      "metadata": {
        "id": "J-znVRe7Eovt",
        "colab_type": "code",
        "colab": {}
      },
      "source": [
        "client.project(\"yourBillingProjectId\")"
      ],
      "execution_count": 0,
      "outputs": []
    },
    {
      "cell_type": "markdown",
      "metadata": {
        "id": "0x-HDbHoEovw",
        "colab_type": "text"
      },
      "source": [
        "# Get your data"
      ]
    },
    {
      "cell_type": "markdown",
      "metadata": {
        "id": "o--EMKzQEovw",
        "colab_type": "text"
      },
      "source": [
        "* After updating your authentication credentials as described above, note that we've added a query on a public dataset for you, ready to run out-of-the-box\n",
        "* If you want to run another query, just replace the current one"
      ]
    },
    {
      "cell_type": "code",
      "metadata": {
        "id": "c14-eGuEEovx",
        "colab_type": "code",
        "colab": {}
      },
      "source": [
        "QUERY = \"\"\"SELECT name FROM `bigquery-public-data.usa_names.usa_1910_current` LIMIT 10\"\"\"\n",
        "\n",
        "result = client.query(QUERY) "
      ],
      "execution_count": 0,
      "outputs": []
    },
    {
      "cell_type": "markdown",
      "metadata": {
        "id": "ZU90TWYgEov0",
        "colab_type": "text"
      },
      "source": [
        "# Let's explore your data"
      ]
    },
    {
      "cell_type": "markdown",
      "metadata": {
        "id": "eAKknIbxEov2",
        "colab_type": "text"
      },
      "source": [
        "## Pandas dataframe with your data"
      ]
    },
    {
      "cell_type": "code",
      "metadata": {
        "id": "ecIB2Qw6Eov3",
        "colab_type": "code",
        "colab": {}
      },
      "source": [
        "df = result.to_df()\n",
        "df.head(20)"
      ],
      "execution_count": 0,
      "outputs": []
    },
    {
      "cell_type": "markdown",
      "metadata": {
        "id": "j__9nArTEov6",
        "colab_type": "text"
      },
      "source": [
        "## Statistics"
      ]
    },
    {
      "cell_type": "code",
      "metadata": {
        "id": "nio8O31lEov8",
        "colab_type": "code",
        "colab": {}
      },
      "source": [
        "if (not result.stats.superParams[\"isDryRun\"]):\n",
        "    print(\"Total rows: \", result.stats.totalRows)\n",
        "    print(\"Workflow: \", \"Query\")\n",
        "    print(\"Cost: $ \", result.stats.superQueryTotalCost)\n",
        "    print(\"Savings % :\", result.stats.saving)\n",
        "    print(\"Cache used: \", result.stats.cacheUsed if hasattr(result.stats, \"cacheUsed\") else False)\n",
        "    print(\"Cache type: \", result.stats.cacheType if hasattr(result.stats, \"cacheUsed\") else \"None\")\n",
        "    print(\"DryRun: \", result.stats.superParams[\"isDryRun\"])\n",
        "else:\n",
        "    print(\"Workflow: \", \"DryRun\")\n",
        "    print(\"Potential BQ bytes to scan: \", result.stats.bigQueryTotalBytesProcessed)\n",
        "    print(\"Total rows: \", result.stats.totalRows)\n",
        "    print(\"DryRun: \", result.stats.superParams[\"isDryRun\"])"
      ],
      "execution_count": 0,
      "outputs": []
    }
  ]
}